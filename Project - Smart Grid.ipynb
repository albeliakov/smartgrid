{
 "cells": [
  {
   "cell_type": "code",
   "execution_count": 6,
   "metadata": {},
   "outputs": [],
   "source": [
    "# Data\n",
    "using NamedArrays\n",
    "\n",
    "nodes = [:S, :K, :P, :alpha, :L, :B, :O, :beta, :C, :M, :R]\n",
    "us = [:K, :L, :C]\n",
    "producers = [us..., :alpha, :beta]\n",
    "consumers = [:S, :K, :P, :L, :B, :O, :C, :M, :R]\n",
    "\n",
    "edges = [(:K, :P), (:S, :P), (:P, :L), (:P, :alpha), \n",
    "    (:alpha, :B), (:alpha, :L), (:alpha, :R), (:L, :B), (:B, :O),\n",
    "    (:O, :beta), (:beta, :R), (:beta, :C), (:beta, :M)]\n",
    "edges = [edges; [(j, i) for (i, j) in edges]]\n",
    "\n",
    "dist_vec = [1, 2, 6, 3, 4, 5, 7, 5, 3, 4, 2, 2, 3]*100\n",
    "distance = Dict(zip(edges, [dist_vec; dist_vec]))\n",
    "\n",
    "days = [:Weds, :Thurs, :Fri]\n",
    "\n",
    "loss = 0.0005\n",
    "\n",
    "matrix = zeros(length(consumers), length(days))\n",
    "demand = NamedArray(matrix, (consumers, days), (\"Consumer\",\"Day\"))\n",
    "demand[:S, :Weds]=40.8; demand[:S, :Thurs]=100; demand[:S, :Fri]=50.5;\n",
    "demand[:P, :Weds]=28.8; demand[:P, :Thurs]=30.3; demand[:P, :Fri]=28.8;\n",
    "demand[:K, :Weds]=27.3; demand[:K, :Thurs]=27.3; demand[:K, :Fri]=27.3;\n",
    "demand[:L, :Weds]=30.1; demand[:L, :Thurs]=28.8; demand[:L, :Fri]=27.3;\n",
    "demand[:C, :Weds]=30.0; demand[:C, :Thurs]=25.5; demand[:C, :Fri]=31.2;\n",
    "demand[:B, :Weds]=30.1; demand[:B, :Thurs]=31.5; demand[:B, :Fri]=30.1;\n",
    "demand[:O, :Weds]=13.7; demand[:O, :Thurs]=8.3; demand[:O, :Fri]=16.4;\n",
    "demand[:M, :Weds]=27.3; demand[:M, :Thurs]=21.9; demand[:M, :Fri]=24.6;\n",
    "demand[:R, :Weds]=19.2; demand[:R, :Thurs]=20.5; demand[:R, :Fri]=20.5;\n",
    "\n",
    "matrix = zeros(length(producers), length(days))\n",
    "supply = NamedArray(matrix, (producers, days), (\"Producer\",\"Day\"))\n",
    "supply[:alpha, :Weds] = 1500; supply[:alpha, :Thurs] = 300; supply[:alpha, :Fri] = 7000;\n",
    "supply[:beta, :Weds] = 2500; supply[:beta, :Thurs] = 200; supply[:beta, :Fri] = 5000;\n",
    "supply[:L, :Weds] = 1500; supply[:L, :Thurs] = 2000; supply[:L, :Fri] = 1500;\n",
    "supply[:K, :Weds] = 2000; supply[:K, :Thurs] = 1500; supply[:K, :Fri] = 1000;\n",
    "supply[:C, :Weds] = 1500; supply[:C, :Thurs] = 2300; supply[:C, :Fri] = 1800;\n",
    "\n",
    "matrix = zeros(length(nodes), length(days))\n",
    "b = NamedArray(matrix, (nodes, days), (\"Nodes\", \"Day\"))\n",
    "for n in nodes\n",
    "    for t in days\n",
    "        if !(n in producers)\n",
    "            b[n, t] = -demand[n, t]\n",
    "        elseif !(n in consumers)\n",
    "            b[n, t] = supply[n, t]\n",
    "        else\n",
    "            b[n, t] = supply[n, t] - demand[n, t]\n",
    "        end\n",
    "    end\n",
    "end"
   ]
  },
  {
   "cell_type": "code",
   "execution_count": 7,
   "metadata": {},
   "outputs": [
    {
     "data": {
      "text/plain": [
       "P (generic function with 1 method)"
      ]
     },
     "execution_count": 7,
     "metadata": {},
     "output_type": "execute_result"
    }
   ],
   "source": [
    "function P(x, i, j)\n",
    "    return (1-loss*distance[(i,j)])*x\n",
    "end"
   ]
  },
  {
   "cell_type": "code",
   "execution_count": 8,
   "metadata": {},
   "outputs": [
    {
     "name": "stdout",
     "output_type": "stream",
     "text": [
      "------Solution------\n",
      "x: 2 dimensions:\n",
      "[    (:K, :P),:]\n",
      "  [    (:K, :P), Weds] = 78.03508771929825\n",
      "  [    (:K, :P),Thurs] = 148.85380116959064\n",
      "  [    (:K, :P),  Fri] = 89.38011695906432\n",
      "[    (:S, :P),:]\n",
      "  [    (:S, :P), Weds] = 0.0\n",
      "  [    (:S, :P),Thurs] = 0.0\n",
      "  [    (:S, :P),  Fri] = 0.0\n",
      "[    (:P, :L),:]\n",
      "  [    (:P, :L), Weds] = 0.0\n",
      "  [    (:P, :L),Thurs] = 0.0\n",
      "  [    (:P, :L),  Fri] = 0.0\n",
      "[(:P, :alpha),:]\n",
      "  [(:P, :alpha), Weds] = 0.0\n",
      "  [(:P, :alpha),Thurs] = 0.0\n",
      "  [(:P, :alpha),  Fri] = 0.0\n",
      "[(:alpha, :B),:]\n",
      "  [(:alpha, :B), Weds] = 37.625\n",
      "  [(:alpha, :B),Thurs] = 39.375\n",
      "  [(:alpha, :B),  Fri] = 37.625\n",
      "[(:alpha, :L),:]\n",
      "  [(:alpha, :L), Weds] = 0.0\n",
      "  [(:alpha, :L),Thurs] = 0.0\n",
      "  [(:alpha, :L),  Fri] = 0.0\n",
      "[(:alpha, :R),:]\n",
      "  [(:alpha, :R), Weds] = 0.0\n",
      "  [(:alpha, :R),Thurs] = 0.0\n",
      "  [(:alpha, :R),  Fri] = 0.0\n",
      "[    (:L, :B),:]\n",
      "  [    (:L, :B), Weds] = 0.0\n",
      "  [    (:L, :B),Thurs] = 0.0\n",
      "  [    (:L, :B),  Fri] = 0.0\n",
      "[    (:B, :O),:]\n",
      "  [    (:B, :O), Weds] = 0.0\n",
      "  [    (:B, :O),Thurs] = 0.0\n",
      "  [    (:B, :O),  Fri] = 0.0\n",
      "[ (:O, :beta),:]\n",
      "  [ (:O, :beta), Weds] = 0.0\n",
      "  [ (:O, :beta),Thurs] = 0.0\n",
      "  [ (:O, :beta),  Fri] = 0.0\n",
      "[ (:beta, :R),:]\n",
      "  [ (:beta, :R), Weds] = 21.333333333333332\n",
      "  [ (:beta, :R),Thurs] = 22.77777777777778\n",
      "  [ (:beta, :R),  Fri] = 22.77777777777778\n",
      "[ (:beta, :C),:]\n",
      "  [ (:beta, :C), Weds] = 0.0\n",
      "  [ (:beta, :C),Thurs] = 0.0\n",
      "  [ (:beta, :C),  Fri] = 0.0\n",
      "[ (:beta, :M),:]\n",
      "  [ (:beta, :M), Weds] = 32.11764705882353\n",
      "  [ (:beta, :M),Thurs] = 25.764705882352942\n",
      "  [ (:beta, :M),  Fri] = 28.94117647058824\n",
      "[    (:P, :K),:]\n",
      "  [    (:P, :K), Weds] = 0.0\n",
      "  [    (:P, :K),Thurs] = 0.0\n",
      "  [    (:P, :K),  Fri] = 0.0\n",
      "[    (:P, :S),:]\n",
      "  [    (:P, :S), Weds] = 45.333333333333336\n",
      "  [    (:P, :S),Thurs] = 111.11111111111111\n",
      "  [    (:P, :S),  Fri] = 56.111111111111114\n",
      "[    (:L, :P),:]\n",
      "  [    (:L, :P), Weds] = 0.0\n",
      "  [    (:L, :P),Thurs] = 0.0\n",
      "  [    (:L, :P),  Fri] = 0.0\n",
      "[(:alpha, :P),:]\n",
      "  [(:alpha, :P), Weds] = 0.0\n",
      "  [(:alpha, :P),Thurs] = 0.0\n",
      "  [(:alpha, :P),  Fri] = 0.0\n",
      "[(:B, :alpha),:]\n",
      "  [(:B, :alpha), Weds] = 0.0\n",
      "  [(:B, :alpha),Thurs] = 0.0\n",
      "  [(:B, :alpha),  Fri] = 0.0\n",
      "[(:L, :alpha),:]\n",
      "  [(:L, :alpha), Weds] = 0.0\n",
      "  [(:L, :alpha),Thurs] = 0.0\n",
      "  [(:L, :alpha),  Fri] = 0.0\n",
      "[(:R, :alpha),:]\n",
      "  [(:R, :alpha), Weds] = 0.0\n",
      "  [(:R, :alpha),Thurs] = 0.0\n",
      "  [(:R, :alpha),  Fri] = 0.0\n",
      "[    (:B, :L),:]\n",
      "  [    (:B, :L), Weds] = 0.0\n",
      "  [    (:B, :L),Thurs] = 0.0\n",
      "  [    (:B, :L),  Fri] = 0.0\n",
      "[    (:O, :B),:]\n",
      "  [    (:O, :B), Weds] = 0.0\n",
      "  [    (:O, :B),Thurs] = 0.0\n",
      "  [    (:O, :B),  Fri] = 0.0\n",
      "[ (:beta, :O),:]\n",
      "  [ (:beta, :O), Weds] = 17.125\n",
      "  [ (:beta, :O),Thurs] = 10.375\n",
      "  [ (:beta, :O),  Fri] = 20.5\n",
      "[ (:R, :beta),:]\n",
      "  [ (:R, :beta), Weds] = 0.0\n",
      "  [ (:R, :beta),Thurs] = 0.0\n",
      "  [ (:R, :beta),  Fri] = 0.0\n",
      "[ (:C, :beta),:]\n",
      "  [ (:C, :beta), Weds] = 0.0\n",
      "  [ (:C, :beta),Thurs] = 0.0\n",
      "  [ (:C, :beta),  Fri] = 0.0\n",
      "[ (:M, :beta),:]\n",
      "  [ (:M, :beta), Weds] = 0.0\n",
      "  [ (:M, :beta),Thurs] = 0.0\n",
      "  [ (:M, :beta),  Fri] = 0.0\n",
      "Total energy losses will be 89.30642414860681 kWh.\n"
     ]
    },
    {
     "name": "stderr",
     "output_type": "stream",
     "text": [
      "\u001b[1m\u001b[33mWARNING: \u001b[39m\u001b[22m\u001b[33muuid4(rng) is deprecated, use Compat.UUIDs.uuid4(rng) instead.\u001b[39m\n",
      "Stacktrace:\n",
      " [1] \u001b[1mdepwarn\u001b[22m\u001b[22m\u001b[1m(\u001b[22m\u001b[22m::String, ::Symbol\u001b[1m)\u001b[22m\u001b[22m at \u001b[1m./deprecated.jl:70\u001b[22m\u001b[22m\n",
      " [2] \u001b[1muuid4\u001b[22m\u001b[22m\u001b[1m(\u001b[22m\u001b[22m::MersenneTwister\u001b[1m)\u001b[22m\u001b[22m at \u001b[1m./deprecated.jl:57\u001b[22m\u001b[22m\n",
      " [3] \u001b[1mmsg_header\u001b[22m\u001b[22m at \u001b[1m/Users/bryan_luu30794/.julia/v0.6/IJulia/src/msg.jl:18\u001b[22m\u001b[22m [inlined]\n",
      " [4] \u001b[1mmsg_pub\u001b[22m\u001b[22m\u001b[1m(\u001b[22m\u001b[22m::IJulia.Msg, ::String, ::Dict{String,String}, ::Dict{String,Any}\u001b[1m)\u001b[22m\u001b[22m at \u001b[1m/Users/bryan_luu30794/.julia/v0.6/IJulia/src/msg.jl:30\u001b[22m\u001b[22m (repeats 2 times)\n",
      " [5] \u001b[1msend_stream\u001b[22m\u001b[22m\u001b[1m(\u001b[22m\u001b[22m::String\u001b[1m)\u001b[22m\u001b[22m at \u001b[1m/Users/bryan_luu30794/.julia/v0.6/IJulia/src/stdio.jl:172\u001b[22m\u001b[22m\n",
      " [6] \u001b[1msend_stdio\u001b[22m\u001b[22m\u001b[1m(\u001b[22m\u001b[22m::String\u001b[1m)\u001b[22m\u001b[22m at \u001b[1m/Users/bryan_luu30794/.julia/v0.6/IJulia/src/stdio.jl:130\u001b[22m\u001b[22m\n",
      " [7] \u001b[1m(::Base.##302#303{IJulia.#send_stdout,Timer})\u001b[22m\u001b[22m\u001b[1m(\u001b[22m\u001b[22m\u001b[1m)\u001b[22m\u001b[22m at \u001b[1m./event.jl:436\u001b[22m\u001b[22m\n",
      "while loading In[8], in expression starting on line 25\n"
     ]
    }
   ],
   "source": [
    "# Model\n",
    "using Clp, JuMP\n",
    "\n",
    "m = Model(solver=ClpSolver())\n",
    "\n",
    "@variable(m, x[edges, days] >= 0) # energy flow from node i to j\n",
    "\n",
    "# # useful expressions\n",
    "@expression(m, flow_in_lossless[k in nodes, t in days], \n",
    "    sum(x[(i,j), t] for (i,j) in edges if j == k))\n",
    "@expression(m, flow_in[k in nodes, t in days], \n",
    "    sum((1-loss*distance[(i,j)])*x[(i,j), t] for (i,j) in edges if j == k))\n",
    "@expression(m, flow_out[k in nodes, t in days], \n",
    "    sum(x[(i,j), t] for (i,j) in edges if i == k))\n",
    "@expression(m, energy_lost, sum(loss*distance[a]*x[a, t] for a in edges for t in days))\n",
    "                                \n",
    "@constraint(m, power_balance[k in nodes, t in days], flow_out[k, t] - flow_in[k, t] <= b[k, t])\n",
    "# @constraint(m, energy_constr[t in days], sum(x[a, t] for a in edges) <= sum(supply[p, t] for p in producers))\n",
    "                                                \n",
    "@objective(m, Min, energy_lost)\n",
    "                                                \n",
    "status = solve(m)\n",
    "\n",
    "println(\"------Solution------\")\n",
    "println(getvalue(x))\n",
    "println(\"Total energy losses will be \", getobjectivevalue(m), \" kWh.\")"
   ]
  },
  {
   "cell_type": "code",
   "execution_count": 15,
   "metadata": {},
   "outputs": [
    {
     "data": {
      "text/plain": [
       "Dict{Symbol,Float64} with 3 entries:\n",
       "  :Fri   => 16300.0\n",
       "  :Weds  => 9000.0\n",
       "  :Thurs => 6300.0"
      ]
     },
     "execution_count": 15,
     "metadata": {},
     "output_type": "execute_result"
    }
   ],
   "source": [
    "total_supply = Dict(zip(days, sum(supply, 1)))"
   ]
  },
  {
   "cell_type": "code",
   "execution_count": 26,
   "metadata": {},
   "outputs": [
    {
     "data": {
      "text/html": [
       "273.63606811145513"
      ],
      "text/plain": [
       "273.63606811145513"
      ]
     },
     "execution_count": 26,
     "metadata": {},
     "output_type": "execute_result"
    }
   ],
   "source": [
    "supply_from_producers = (getvalue(sum(flow_out[p, :Weds] for p in producers))) + (sum(demand[us, :Weds]))"
   ]
  },
  {
   "cell_type": "code",
   "execution_count": 16,
   "metadata": {},
   "outputs": [
    {
     "data": {
      "text/plain": [
       "11×3 Named Array{Float64,2}\n",
       "Nodes ╲ Day │  :Weds  :Thurs    :Fri\n",
       "────────────┼───────────────────────\n",
       ":S          │  -40.8  -100.0   -50.5\n",
       ":K          │ 1972.7  1472.7   972.7\n",
       ":P          │  -28.8   -30.3   -28.8\n",
       ":alpha      │ 1500.0   300.0  7000.0\n",
       ":L          │ 1469.9  1971.2  1472.7\n",
       ":B          │  -30.1   -31.5   -30.1\n",
       ":O          │  -13.7    -8.3   -16.4\n",
       ":beta       │ 2500.0   200.0  5000.0\n",
       ":C          │ 1470.0  2274.5  1768.8\n",
       ":M          │  -27.3   -21.9   -24.6\n",
       ":R          │  -19.2   -20.5   -20.5"
      ]
     },
     "execution_count": 16,
     "metadata": {},
     "output_type": "execute_result"
    }
   ],
   "source": [
    "b"
   ]
  },
  {
   "cell_type": "code",
   "execution_count": 17,
   "metadata": {},
   "outputs": [
    {
     "data": {
      "text/plain": [
       "Dict{Symbol,Float64} with 3 entries:\n",
       "  :Fri   => 256.7\n",
       "  :Weds  => 247.3\n",
       "  :Thurs => 294.1"
      ]
     },
     "execution_count": 17,
     "metadata": {},
     "output_type": "execute_result"
    }
   ],
   "source": [
    "total_demand = Dict(zip(days, sum(demand, 1)))"
   ]
  },
  {
   "cell_type": "code",
   "execution_count": 18,
   "metadata": {},
   "outputs": [
    {
     "data": {
      "text/plain": [
       "Dict{Symbol,Any} with 3 entries:\n",
       "  :Fri   => 16043.3\n",
       "  :Weds  => 8752.7\n",
       "  :Thurs => 6005.9"
      ]
     },
     "execution_count": 18,
     "metadata": {},
     "output_type": "execute_result"
    }
   ],
   "source": [
    "net = Dict(zip(days, total_supply[t] - total_demand[t] for t in days))"
   ]
  },
  {
   "cell_type": "code",
   "execution_count": 32,
   "metadata": {},
   "outputs": [
    {
     "data": {
      "text/html": [
       "231.56940144478847"
      ],
      "text/plain": [
       "231.56940144478847"
      ]
     },
     "execution_count": 32,
     "metadata": {},
     "output_type": "execute_result"
    }
   ],
   "source": [
    "getvalue(sum(x[a, :Weds] for a in edges))"
   ]
  },
  {
   "cell_type": "code",
   "execution_count": 30,
   "metadata": {},
   "outputs": [
    {
     "data": {
      "text/html": [
       "205.23333333333335"
      ],
      "text/plain": [
       "205.23333333333335"
      ]
     },
     "execution_count": 30,
     "metadata": {},
     "output_type": "execute_result"
    }
   ],
   "source": [
    "demand_from_consumers = (getvalue(sum(flow_in[c, :Weds] for c in consumers)))"
   ]
  },
  {
   "cell_type": "code",
   "execution_count": 34,
   "metadata": {},
   "outputs": [
    {
     "data": {
      "text/html": [
       "247.29999999999998"
      ],
      "text/plain": [
       "247.29999999999998"
      ]
     },
     "execution_count": 34,
     "metadata": {},
     "output_type": "execute_result"
    }
   ],
   "source": [
    "demand_from_consumers = total_demand[:Weds] - sum(demand[us, :Weds])"
   ]
  },
  {
   "cell_type": "code",
   "execution_count": 84,
   "metadata": {},
   "outputs": [
    {
     "data": {
      "text/html": [
       "0.0"
      ],
      "text/plain": [
       "0.0"
      ]
     },
     "execution_count": 84,
     "metadata": {},
     "output_type": "execute_result"
    }
   ],
   "source": [
    "getvalue(flow_in[:L, :Weds] + flow_in[:K, :Weds] + flow_in[:C, :Weds])"
   ]
  },
  {
   "cell_type": "code",
   "execution_count": 85,
   "metadata": {},
   "outputs": [
    {
     "data": {
      "text/html": [
       "74.13333333333334"
      ],
      "text/plain": [
       "74.13333333333334"
      ]
     },
     "execution_count": 85,
     "metadata": {},
     "output_type": "execute_result"
    }
   ],
   "source": [
    "getvalue(flow_in[:P, :Weds])"
   ]
  },
  {
   "cell_type": "code",
   "execution_count": 31,
   "metadata": {},
   "outputs": [
    {
     "data": {
      "text/html": [
       "68.40273477812178"
      ],
      "text/plain": [
       "68.40273477812178"
      ]
     },
     "execution_count": 31,
     "metadata": {},
     "output_type": "execute_result"
    }
   ],
   "source": [
    "supply_from_producers - demand_from_consumers"
   ]
  },
  {
   "cell_type": "code",
   "execution_count": 4,
   "metadata": {},
   "outputs": [
    {
     "data": {
      "text/plain": [
       "5-element Array{Symbol,1}:\n",
       " :K    \n",
       " :L    \n",
       " :C    \n",
       " :alpha\n",
       " :beta "
      ]
     },
     "execution_count": 4,
     "metadata": {},
     "output_type": "execute_result"
    }
   ],
   "source": [
    "producers"
   ]
  },
  {
   "cell_type": "code",
   "execution_count": 33,
   "metadata": {},
   "outputs": [
    {
     "data": {
      "text/html": [
       "26.33606811145515"
      ],
      "text/plain": [
       "26.33606811145515"
      ]
     },
     "execution_count": 33,
     "metadata": {},
     "output_type": "execute_result"
    }
   ],
   "source": [
    "supply_from_producers - total_demand[:Weds]"
   ]
  },
  {
   "cell_type": "code",
   "execution_count": null,
   "metadata": {},
   "outputs": [],
   "source": []
  }
 ],
 "metadata": {
  "kernelspec": {
   "display_name": "Julia 0.6.4",
   "language": "julia",
   "name": "julia-0.6"
  },
  "language_info": {
   "file_extension": ".jl",
   "mimetype": "application/julia",
   "name": "julia",
   "version": "0.6.4"
  }
 },
 "nbformat": 4,
 "nbformat_minor": 2
}

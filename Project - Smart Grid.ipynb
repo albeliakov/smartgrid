{
 "cells": [
  {
   "cell_type": "code",
   "execution_count": 74,
   "metadata": {},
   "outputs": [],
   "source": [
    "# Data\n",
    "using NamedArrays\n",
    "\n",
    "nodes = [:S, :K, :P, :alpha, :L, :B, :O, :beta, :C, :M, :R]\n",
    "producers = [:K, :L, :C, :alpha, :beta]\n",
    "consumers = [:S, :K, :P, :L, :B, :O, :C, :M, :R]\n",
    "\n",
    "edges = [(:K, :P), (:S, :P), (:P, :L), (:P, :alpha), \n",
    "    (:alpha, :B), (:alpha, :L), (:alpha, :R), (:L, :B), (:B, :O),\n",
    "    (:O, :beta), (:beta, :R), (:beta, :C), (:beta, :M)]\n",
    "edges = [edges; [(j, i) for (i, j) in edges]]\n",
    "\n",
    "dist_vec = [1, 2, 6, 3, 4, 5, 7, 5, 3, 4, 2, 2, 3]*100\n",
    "distance = Dict(zip(edges, [dist_vec; dist_vec]))\n",
    "\n",
    "days = [:Weds, :Thurs, :Fri]\n",
    "\n",
    "loss = 0.0001\n",
    "\n",
    "matrix = zeros(length(consumers), length(days))\n",
    "demand = NamedArray(matrix, (consumers, days), (\"Consumer\",\"Day\"))\n",
    "demand[:S, :Weds]=40.8; demand[:S, :Thurs]=100; demand[:S, :Fri]=50.5;\n",
    "demand[:P, :Weds]=28.8; demand[:P, :Thurs]=30.3; demand[:P, :Fri]=28.8;\n",
    "demand[:K, :Weds]=27.3; demand[:K, :Thurs]=27.3; demand[:K, :Fri]=27.3;\n",
    "demand[:L, :Weds]=30.1; demand[:L, :Thurs]=28.8; demand[:L, :Fri]=27.3;\n",
    "demand[:C, :Weds]=30.0; demand[:C, :Thurs]=25.5; demand[:C, :Fri]=31.2;\n",
    "demand[:B, :Weds]=30.1; demand[:B, :Thurs]=31.5; demand[:B, :Fri]=30.1;\n",
    "demand[:O, :Weds]=13.7; demand[:O, :Thurs]=8.3; demand[:O, :Fri]=16.4;\n",
    "demand[:M, :Weds]=27.3; demand[:M, :Thurs]=21.9; demand[:M, :Fri]=24.6;\n",
    "demand[:R, :Weds]=19.2; demand[:R, :Thurs]=20.5; demand[:R, :Fri]=20.5;\n",
    "\n",
    "matrix = zeros(length(producers), length(days))\n",
    "supply = NamedArray(matrix, (producers, days), (\"Producer\",\"Day\"))\n",
    "supply[:alpha, :Weds] = 1500; supply[:alpha, :Thurs] = 300; supply[:alpha, :Fri] = 7000;\n",
    "supply[:beta, :Weds] = 2500; supply[:beta, :Thurs] = 200; supply[:beta, :Fri] = 5000;\n",
    "supply[:L, :Weds] = 1500; supply[:L, :Thurs] = 2000; supply[:L, :Fri] = 1500;\n",
    "supply[:K, :Weds] = 2000; supply[:K, :Thurs] = 1500; supply[:K, :Fri] = 1000;\n",
    "supply[:C, :Weds] = 1500; supply[:C, :Thurs] = 2300; supply[:C, :Fri] = 1800;\n",
    "\n",
    "matrix = zeros(length(nodes), length(days))\n",
    "b = NamedArray(matrix, (nodes, days), (\"Nodes\", \"Day\"))\n",
    "for n in nodes\n",
    "    for t in days\n",
    "        if !(n in producers)\n",
    "            b[n, t] = -demand[n, t]\n",
    "        elseif !(n in consumers)\n",
    "            b[n, t] = supply[n, t]\n",
    "        else\n",
    "            b[n, t] = supply[n, t] - demand[n, t]\n",
    "        end\n",
    "    end\n",
    "end"
   ]
  },
  {
   "cell_type": "code",
   "execution_count": 75,
   "metadata": {},
   "outputs": [
    {
     "data": {
      "text/plain": [
       "P (generic function with 1 method)"
      ]
     },
     "execution_count": 75,
     "metadata": {},
     "output_type": "execute_result"
    }
   ],
   "source": [
    "function P(x, i, j)\n",
    "    return (1-loss*distance[(i,j)])*x\n",
    "end"
   ]
  },
  {
   "cell_type": "code",
   "execution_count": 105,
   "metadata": {},
   "outputs": [
    {
     "name": "stdout",
     "output_type": "stream",
     "text": [
      "------Solution------\n",
      "Gift Matrix: [-40.8 -100.0 -50.5; 1972.7 1472.7 972.7; -28.8 -30.3 -28.8; 1500.0 300.0 7000.0; 1469.9 1971.2 1472.7; -30.1 -31.5 -30.1; -13.7 -8.3 -16.4; 2500.0 200.0 5000.0; 1470.0 2274.5 1768.8; -27.3 -21.9 -24.6; -19.2 -20.5 -20.5]\n",
      "x: 2 dimensions:\n",
      "[    (:K, :P),:]\n",
      "  [    (:K, :P), Weds] = 71.14409400123685\n",
      "  [    (:K, :P),Thurs] = 133.67759224902082\n",
      "  [    (:K, :P),  Fri] = 81.142032570604\n",
      "[    (:S, :P),:]\n",
      "  [    (:S, :P), Weds] = 0.0\n",
      "  [    (:S, :P),Thurs] = 0.0\n",
      "  [    (:S, :P),  Fri] = 0.0\n",
      "[    (:P, :L),:]\n",
      "  [    (:P, :L), Weds] = 0.0\n",
      "  [    (:P, :L),Thurs] = 0.0\n",
      "  [    (:P, :L),  Fri] = 0.0\n",
      "[(:P, :alpha),:]\n",
      "  [(:P, :alpha), Weds] = 0.0\n",
      "  [(:P, :alpha),Thurs] = 0.0\n",
      "  [(:P, :alpha),  Fri] = 0.0\n",
      "[(:alpha, :B),:]\n",
      "  [(:alpha, :B), Weds] = 31.35416666666667\n",
      "  [(:alpha, :B),Thurs] = 32.8125\n",
      "  [(:alpha, :B),  Fri] = 31.35416666666667\n",
      "[(:alpha, :L),:]\n",
      "  [(:alpha, :L), Weds] = 0.0\n",
      "  [(:alpha, :L),Thurs] = 0.0\n",
      "  [(:alpha, :L),  Fri] = 0.0\n",
      "[(:alpha, :R),:]\n",
      "  [(:alpha, :R), Weds] = 0.0\n",
      "  [(:alpha, :R),Thurs] = 0.0\n",
      "  [(:alpha, :R),  Fri] = 0.0\n",
      "[    (:L, :B),:]\n",
      "  [    (:L, :B), Weds] = 0.0\n",
      "  [    (:L, :B),Thurs] = 0.0\n",
      "  [    (:L, :B),  Fri] = 0.0\n",
      "[    (:B, :O),:]\n",
      "  [    (:B, :O), Weds] = 0.0\n",
      "  [    (:B, :O),Thurs] = 0.0\n",
      "  [    (:B, :O),  Fri] = 0.0\n",
      "[ (:O, :beta),:]\n",
      "  [ (:O, :beta), Weds] = 0.0\n",
      "  [ (:O, :beta),Thurs] = 0.0\n",
      "  [ (:O, :beta),  Fri] = 0.0\n",
      "[ (:beta, :R),:]\n",
      "  [ (:beta, :R), Weds] = 19.591836734693878\n",
      "  [ (:beta, :R),Thurs] = 20.918367346938776\n",
      "  [ (:beta, :R),  Fri] = 20.918367346938776\n",
      "[ (:beta, :C),:]\n",
      "  [ (:beta, :C), Weds] = 0.0\n",
      "  [ (:beta, :C),Thurs] = 0.0\n",
      "  [ (:beta, :C),  Fri] = 0.0\n",
      "[ (:beta, :M),:]\n",
      "  [ (:beta, :M), Weds] = 28.14432989690722\n",
      "  [ (:beta, :M),Thurs] = 22.577319587628867\n",
      "  [ (:beta, :M),  Fri] = 25.360824742268047\n",
      "[    (:P, :K),:]\n",
      "  [    (:P, :K), Weds] = 0.0\n",
      "  [    (:P, :K),Thurs] = 0.0\n",
      "  [    (:P, :K),  Fri] = 0.0\n",
      "[    (:P, :S),:]\n",
      "  [    (:P, :S), Weds] = 41.63265306122449\n",
      "  [    (:P, :S),Thurs] = 102.04081632653062\n",
      "  [    (:P, :S),  Fri] = 51.53061224489796\n",
      "[    (:L, :P),:]\n",
      "  [    (:L, :P), Weds] = 0.0\n",
      "  [    (:L, :P),Thurs] = 0.0\n",
      "  [    (:L, :P),  Fri] = 0.0\n",
      "[(:alpha, :P),:]\n",
      "  [(:alpha, :P), Weds] = 0.0\n",
      "  [(:alpha, :P),Thurs] = 0.0\n",
      "  [(:alpha, :P),  Fri] = 0.0\n",
      "[(:B, :alpha),:]\n",
      "  [(:B, :alpha), Weds] = 0.0\n",
      "  [(:B, :alpha),Thurs] = 0.0\n",
      "  [(:B, :alpha),  Fri] = 0.0\n",
      "[(:L, :alpha),:]\n",
      "  [(:L, :alpha), Weds] = 0.0\n",
      "  [(:L, :alpha),Thurs] = 0.0\n",
      "  [(:L, :alpha),  Fri] = 0.0\n",
      "[(:R, :alpha),:]\n",
      "  [(:R, :alpha), Weds] = 0.0\n",
      "  [(:R, :alpha),Thurs] = 0.0\n",
      "  [(:R, :alpha),  Fri] = 0.0\n",
      "[    (:B, :L),:]\n",
      "  [    (:B, :L), Weds] = 0.0\n",
      "  [    (:B, :L),Thurs] = 0.0\n",
      "  [    (:B, :L),  Fri] = 0.0\n",
      "[    (:O, :B),:]\n",
      "  [    (:O, :B), Weds] = 0.0\n",
      "  [    (:O, :B),Thurs] = 0.0\n",
      "  [    (:O, :B),  Fri] = 0.0\n",
      "[ (:beta, :O),:]\n",
      "  [ (:beta, :O), Weds] = 14.270833333333334\n",
      "  [ (:beta, :O),Thurs] = 8.645833333333334\n",
      "  [ (:beta, :O),  Fri] = 17.083333333333332\n",
      "[ (:R, :beta),:]\n",
      "  [ (:R, :beta), Weds] = 0.0\n",
      "  [ (:R, :beta),Thurs] = 0.0\n",
      "  [ (:R, :beta),  Fri] = 0.0\n",
      "[ (:C, :beta),:]\n",
      "  [ (:C, :beta), Weds] = 0.0\n",
      "  [ (:C, :beta),Thurs] = 0.0\n",
      "  [ (:C, :beta),  Fri] = 0.0\n",
      "[ (:M, :beta),:]\n",
      "  [ (:M, :beta), Weds] = 0.0\n",
      "  [ (:M, :beta),Thurs] = 0.0\n",
      "  [ (:M, :beta),  Fri] = 0.0\n",
      "Total energy losses will be 15.695597809570563 kWh.\n"
     ]
    }
   ],
   "source": [
    "# Model\n",
    "using Clp, JuMP\n",
    "\n",
    "m = Model(solver=ClpSolver())\n",
    "\n",
    "@variable(m, x[edges, days] >= 0) # energy flow from node i to j\n",
    "\n",
    "# # useful expressions\n",
    "@expression(m, flow_in[k in nodes, t in days], \n",
    "    sum((1-loss*distance[(i,j)])*x[(i,j), t] for (i,j) in edges if j == k))\n",
    "@expression(m, flow_out[k in nodes, t in days], \n",
    "    sum(x[(i,j), t] for (i,j) in edges if i == k))\n",
    "@expression(m, energy_lost, sum(loss*distance[a]*x[a, t] for a in edges for t in days))\n",
    "                                \n",
    "@constraint(m, power_balance[k in nodes, t in days], flow_out[k, t] - flow_in[k, t] <= b[k, t])\n",
    "# @constraint(m, energy_constr[t in days], sum(x[a, t] for a in edges) <= sum(supply[p, t] for p in producers))\n",
    "                                                \n",
    "@objective(m, Min, energy_lost)\n",
    "                                                \n",
    "status = solve(m)\n",
    "\n",
    "println(\"------Solution------\")\n",
    "println(\"Gift Matrix: \", matrix)\n",
    "println(getvalue(x))\n",
    "println(\"Total energy losses will be \", getobjectivevalue(m), \" kWh.\")"
   ]
  },
  {
   "cell_type": "code",
   "execution_count": 95,
   "metadata": {},
   "outputs": [
    {
     "data": {
      "text/plain": [
       "Dict{Symbol,Float64} with 3 entries:\n",
       "  :Fri   => 16300.0\n",
       "  :Weds  => 9000.0\n",
       "  :Thurs => 6300.0"
      ]
     },
     "execution_count": 95,
     "metadata": {},
     "output_type": "execute_result"
    }
   ],
   "source": [
    "total_supply = Dict(zip(days, sum(supply, 1)))"
   ]
  },
  {
   "cell_type": "code",
   "execution_count": 102,
   "metadata": {},
   "outputs": [
    {
     "data": {
      "text/html": [
       "251.90526063283795"
      ],
      "text/plain": [
       "251.90526063283795"
      ]
     },
     "execution_count": 102,
     "metadata": {},
     "output_type": "execute_result"
    }
   ],
   "source": [
    "total_supply = (getvalue(flow_out[:alpha, :Weds] + flow_out[:beta, :Weds] \n",
    "    + flow_out[:L, :Weds] + flow_out[:K, :Weds] + flow_out[:C, :Weds])\n",
    "    + demand[:L, :Weds] + demand[:K, :Weds] + demand[:C, :Weds])\n",
    "\n",
    "\n",
    "\n",
    "\n"
   ]
  },
  {
   "cell_type": "code",
   "execution_count": 81,
   "metadata": {},
   "outputs": [
    {
     "data": {
      "text/plain": [
       "11×3 Named Array{Float64,2}\n",
       "Nodes ╲ Day │  :Weds  :Thurs    :Fri\n",
       "────────────┼───────────────────────\n",
       ":S          │  -40.8  -100.0   -50.5\n",
       ":K          │ 1972.7  1472.7   972.7\n",
       ":P          │  -28.8   -30.3   -28.8\n",
       ":alpha      │ 1500.0   300.0  7000.0\n",
       ":L          │ 1469.9  1971.2  1472.7\n",
       ":B          │  -30.1   -31.5   -30.1\n",
       ":O          │  -13.7    -8.3   -16.4\n",
       ":beta       │ 2500.0   200.0  5000.0\n",
       ":C          │ 1470.0  2274.5  1768.8\n",
       ":M          │  -27.3   -21.9   -24.6\n",
       ":R          │  -19.2   -20.5   -20.5"
      ]
     },
     "execution_count": 81,
     "metadata": {},
     "output_type": "execute_result"
    }
   ],
   "source": [
    "b"
   ]
  },
  {
   "cell_type": "code",
   "execution_count": 96,
   "metadata": {},
   "outputs": [
    {
     "data": {
      "text/plain": [
       "Dict{Symbol,Float64} with 3 entries:\n",
       "  :Fri   => 256.7\n",
       "  :Weds  => 247.3\n",
       "  :Thurs => 294.1"
      ]
     },
     "execution_count": 96,
     "metadata": {},
     "output_type": "execute_result"
    }
   ],
   "source": [
    "total_demand = Dict(zip(days, sum(demand, 1)))"
   ]
  },
  {
   "cell_type": "code",
   "execution_count": 90,
   "metadata": {},
   "outputs": [
    {
     "data": {
      "text/plain": [
       "Dict{Symbol,Any} with 3 entries:\n",
       "  :Fri   => 16043.3\n",
       "  :Weds  => 8752.7\n",
       "  :Thurs => 6005.9"
      ]
     },
     "execution_count": 90,
     "metadata": {},
     "output_type": "execute_result"
    }
   ],
   "source": [
    "net = Dict(zip(days, total_supply[t] - total_demand[t] for t in days))"
   ]
  },
  {
   "cell_type": "code",
   "execution_count": 92,
   "metadata": {},
   "outputs": [
    {
     "data": {
      "text/html": [
       "425446.58346557873"
      ],
      "text/plain": [
       "425446.58346557873"
      ]
     },
     "execution_count": 92,
     "metadata": {},
     "output_type": "execute_result"
    }
   ],
   "source": [
    "getvalue(sum(x[a, :Weds] for a in edges))"
   ]
  },
  {
   "cell_type": "code",
   "execution_count": null,
   "metadata": {},
   "outputs": [],
   "source": []
  }
 ],
 "metadata": {
  "kernelspec": {
   "display_name": "Julia 0.6.4",
   "language": "julia",
   "name": "julia-0.6"
  },
  "language_info": {
   "file_extension": ".jl",
   "mimetype": "application/julia",
   "name": "julia",
   "version": "0.6.4"
  }
 },
 "nbformat": 4,
 "nbformat_minor": 2
}

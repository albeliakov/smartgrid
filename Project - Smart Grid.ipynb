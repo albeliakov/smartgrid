{
 "cells": [
  {
   "cell_type": "code",
   "execution_count": 140,
   "metadata": {},
   "outputs": [],
   "source": [
    "# Data\n",
    "using NamedArrays\n",
    "\n",
    "nodes = [:S, :K, :P, :gamma, :L, :B, :O, :beta, :C, :M, :R, :alpha]\n",
    "us = [:K, :L, :C]\n",
    "producers = [us..., :gamma, :beta, :alpha]\n",
    "consumers = [:S, :K, :P, :L, :B, :O, :C, :M, :R]\n",
    "\n",
    "edges = [(:K, :P), (:S, :P), (:P, :L), (:P, :gamma), \n",
    "    (:gamma, :B), (:gamma, :L), (:gamma, :R), (:L, :B), (:B, :O),\n",
    "    (:O, :beta), (:beta, :R), (:beta, :C), (:beta, :M),\n",
    "    (:alpha, :gamma), (:alpha, :S), (:alpha, :R)]\n",
    "edges = [edges; [(j, i) for (i, j) in edges]]\n",
    "\n",
    "dist_vec = [1, 2, 6, 3, 4, 5, 7, 5, 3, 4, 2, 2, 3, 5, 5, 5]*100\n",
    "distance = Dict(zip(edges, [dist_vec; dist_vec]))\n",
    "\n",
    "days = [1:4;]\n",
    "\n",
    "loss = 0.0005\n",
    "\n",
    "matrix = zeros(length(consumers), length(days))\n",
    "demand = NamedArray(matrix, (consumers, days), (\"Consumer\",\"Day\"))\n",
    "demand[:S, 1]=40.8; demand[:S, 2]=100; demand[:S, 3]=50.5; demand[:S, 4]=150.8;\n",
    "demand[:P, 1]=28.8; demand[:P, 2]=30.3; demand[:P, 3]=28.8; demand[:P, 4]=20.5;\n",
    "demand[:K, 1]=27.3; demand[:K, 2]=27.3; demand[:K, 3]=27.3; demand[:K, 4]=50.5;\n",
    "demand[:L, 1]=30.1; demand[:L, 2]=28.8; demand[:L, 3]=27.3; demand[:L, 4]=55.2;\n",
    "demand[:C, 1]=30.0; demand[:C, 2]=25.5; demand[:C, 3]=31.2; demand[:C, 4]=45.5;\n",
    "demand[:B, 1]=30.1; demand[:B, 2]=31.5; demand[:B, 3]=30.1; demand[:B, 4]=35.1;\n",
    "demand[:O, 1]=13.7; demand[:O, 2]=8.3; demand[:O, 3]=16.4; demand[:O, 4]=36.7;\n",
    "demand[:M, 1]=27.3; demand[:M, 2]=21.9; demand[:M, 3]=24.6; demand[:M, 4]=28.9;\n",
    "demand[:R, 1]=19.2; demand[:R, 2]=20.5; demand[:R, 3]=20.5; demand[:R, 4]=20.0;\n",
    "\n",
    "matrix = zeros(length(producers), length(days))\n",
    "supply = NamedArray(matrix, (producers, days), (\"Producer\",\"Day\"))\n",
    "supply[:alpha, 1] = 1500; supply[:alpha, 2] = 300; supply[:alpha, 3] = 7000; supply[:alpha, 4] = 0;\n",
    "supply[:beta, 1] = 2500; supply[:beta, 2] = 200; supply[:beta, 3] = 5000; supply[:beta, 4] = 0;\n",
    "supply[:L, 1] = 1500; supply[:L, 2] = 2000; supply[:L, 3] = 1500; supply[:L, 4] = 1000;\n",
    "supply[:K, 1] = 2000; supply[:K, 2] = 1500; supply[:K, 3] = 1000; supply[:K, 4] = 100;\n",
    "supply[:C, 1] = 1500; supply[:C, 2] = 2300; supply[:C, 3] = 1800; supply[:C, 4] = 120;\n",
    "supply[:gamma, :] .= 10000;\n",
    "\n",
    "matrix = zeros(length(nodes), length(days))\n",
    "b = NamedArray(matrix, (nodes, days), (\"Nodes\", \"Day\"))\n",
    "for n in nodes\n",
    "    for t in days\n",
    "        if !(n in producers)\n",
    "            b[n, t] = -demand[n, t]\n",
    "        elseif !(n in consumers)\n",
    "            b[n, t] = supply[n, t]\n",
    "        else\n",
    "            b[n, t] = supply[n, t] - demand[n, t]\n",
    "        end\n",
    "    end\n",
    "end\n",
    "\n",
    "# punishment for using gamma\n",
    "µ = [0:0.01:0.25;];"
   ]
  },
  {
   "cell_type": "code",
   "execution_count": 116,
   "metadata": {},
   "outputs": [],
   "source": [
    "# Critical Day 4 supply\n",
    "supply[:L, 4] = 305;\n",
    "supply[:K, 4] = 100;\n",
    "supply[:C, 4] = 160;"
   ]
  },
  {
   "cell_type": "code",
   "execution_count": 44,
   "metadata": {},
   "outputs": [
    {
     "data": {
      "text/plain": [
       "P (generic function with 1 method)"
      ]
     },
     "execution_count": 44,
     "metadata": {},
     "output_type": "execute_result"
    }
   ],
   "source": [
    "function P(x, i, j)\n",
    "    return (1-loss*distance[(i,j)])*x\n",
    "end"
   ]
  },
  {
   "cell_type": "code",
   "execution_count": 138,
   "metadata": {},
   "outputs": [
    {
     "data": {
      "text/plain": [
       "11-element Array{Float64,1}:\n",
       " 0.0 \n",
       " 0.05\n",
       " 0.1 \n",
       " 0.15\n",
       " 0.2 \n",
       " 0.25\n",
       " 0.3 \n",
       " 0.35\n",
       " 0.4 \n",
       " 0.45\n",
       " 0.5 "
      ]
     },
     "execution_count": 138,
     "metadata": {},
     "output_type": "execute_result"
    }
   ],
   "source": [
    "µ"
   ]
  },
  {
   "cell_type": "code",
   "execution_count": 154,
   "metadata": {
    "scrolled": false
   },
   "outputs": [
    {
     "name": "stdout",
     "output_type": "stream",
     "text": [
      "------Solution------\n",
      "µ: 0.0\n",
      "Total energy losses will be 172.3317509459924 kWh.\n",
      "Total dirty energy used will be 365.6503267973857 kWh.\n",
      "------Solution------\n",
      "µ: 0.01\n",
      "Total energy losses will be 172.3317509459924 kWh.\n",
      "Total dirty energy used will be 365.6503267973857 kWh.\n",
      "------Solution------\n",
      "µ: 0.02\n",
      "Total energy losses will be 172.3317509459924 kWh.\n",
      "Total dirty energy used will be 365.6503267973857 kWh.\n",
      "------Solution------\n",
      "µ: 0.03\n",
      "Total energy losses will be 172.3317509459924 kWh.\n",
      "Total dirty energy used will be 365.6503267973857 kWh.\n",
      "------Solution------\n",
      "µ: 0.04\n",
      "Total energy losses will be 172.3317509459924 kWh.\n",
      "Total dirty energy used will be 365.6503267973857 kWh.\n",
      "------Solution------\n",
      "µ: 0.05\n",
      "Total energy losses will be 172.3317509459924 kWh.\n",
      "Total dirty energy used will be 365.6503267973857 kWh.\n",
      "------Solution------\n",
      "µ: 0.06\n",
      "Total energy losses will be 172.3317509459924 kWh.\n",
      "Total dirty energy used will be 365.6503267973857 kWh.\n",
      "------Solution------\n",
      "µ: 0.07\n",
      "Total energy losses will be 185.64721935557847 kWh.\n",
      "Total dirty energy used will be 165.9183006535948 kWh.\n",
      "------Solution------\n",
      "µ: 0.08\n",
      "Total energy losses will be 185.64721935557847 kWh.\n",
      "Total dirty energy used will be 165.9183006535948 kWh.\n",
      "------Solution------\n",
      "µ: 0.09\n",
      "Total energy losses will be 185.64721935557847 kWh.\n",
      "Total dirty energy used will be 165.9183006535948 kWh.\n",
      "------Solution------\n",
      "µ: 0.1\n",
      "Total energy losses will be 185.64721935557847 kWh.\n",
      "Total dirty energy used will be 165.9183006535948 kWh.\n",
      "------Solution------\n",
      "µ: 0.11\n",
      "Total energy losses will be 185.64721935557847 kWh.\n",
      "Total dirty energy used will be 165.9183006535948 kWh.\n",
      "------Solution------\n",
      "µ: 0.12\n",
      "Total energy losses will be 185.64721935557847 kWh.\n",
      "Total dirty energy used will be 165.9183006535948 kWh.\n",
      "------Solution------\n",
      "µ: 0.13\n",
      "Total energy losses will be 185.64721935557847 kWh.\n",
      "Total dirty energy used will be 165.9183006535948 kWh.\n",
      "------Solution------\n",
      "µ: 0.14\n",
      "Total energy losses will be 185.64721935557847 kWh.\n",
      "Total dirty energy used will be 165.9183006535948 kWh.\n",
      "------Solution------\n",
      "µ: 0.15\n",
      "Total energy losses will be 185.64721935557847 kWh.\n",
      "Total dirty energy used will be 165.9183006535948 kWh.\n",
      "------Solution------\n",
      "µ: 0.16\n",
      "Total energy losses will be 185.64721935557847 kWh.\n",
      "Total dirty energy used will be 165.9183006535948 kWh.\n",
      "------Solution------\n",
      "µ: 0.17\n",
      "Total energy losses will be 185.64721935557847 kWh.\n",
      "Total dirty energy used will be 165.9183006535948 kWh.\n",
      "------Solution------\n",
      "µ: 0.18\n",
      "Total energy losses will be 185.64721935557847 kWh.\n",
      "Total dirty energy used will be 165.9183006535948 kWh.\n",
      "------Solution------\n",
      "µ: 0.19\n",
      "Total energy losses will be 185.64721935557847 kWh.\n",
      "Total dirty energy used will be 165.9183006535948 kWh.\n",
      "------Solution------\n",
      "µ: 0.2\n",
      "Total energy losses will be 185.64721935557847 kWh.\n",
      "Total dirty energy used will be 165.9183006535948 kWh.\n",
      "------Solution------\n",
      "µ: 0.21\n",
      "Total energy losses will be 185.64721935557847 kWh.\n",
      "Total dirty energy used will be 165.9183006535948 kWh.\n",
      "------Solution------\n",
      "µ: 0.22\n",
      "Total energy losses will be 221.2011409242059 kWh.\n",
      "Total dirty energy used will be 0.0 kWh.\n",
      "------Solution------\n",
      "µ: 0.23\n",
      "Total energy losses will be 221.2011409242059 kWh.\n",
      "Total dirty energy used will be 0.0 kWh.\n",
      "------Solution------\n",
      "µ: 0.24\n",
      "Total energy losses will be 221.2011409242059 kWh.\n",
      "Total dirty energy used will be 0.0 kWh.\n",
      "------Solution------\n",
      "µ: 0.25\n",
      "Total energy losses will be 221.2011409242059 kWh.\n",
      "Total dirty energy used will be 0.0 kWh.\n"
     ]
    }
   ],
   "source": [
    "# Model\n",
    "using Clp, JuMP\n",
    "\n",
    "m = Model(solver=ClpSolver())\n",
    "\n",
    "@variable(m, x[edges, days] >= 0) # energy flow from node i to j\n",
    "\n",
    "# # useful expressions\n",
    "@expression(m, flow_in_lossless[k in nodes, t in days], \n",
    "    sum(x[(i,j), t] for (i,j) in edges if j == k))\n",
    "@expression(m, flow_in[k in nodes, t in days], \n",
    "    sum((1-loss*distance[(i,j)])*x[(i,j), t] for (i,j) in edges if j == k))\n",
    "@expression(m, flow_out[k in nodes, t in days], \n",
    "    sum(x[(i,j), t] for (i,j) in edges if i == k))\n",
    "@expression(m, energy_lost, sum(loss*distance[a]*x[a, t] for a in edges for t in days))\n",
    "@expression(m, dirty_power, sum(flow_out[:gamma, t] for t in days))\n",
    "                                \n",
    "@constraint(m, power_balance[k in nodes, t in days], flow_out[k, t] - flow_in[k, t] <= b[k, t])\n",
    "# @constraint(m, energy_constr[t in days], sum(x[a, t] for a in edges) <= sum(supply[p, t] for p in producers))\n",
    "Ppath = []; Bpath = [];\n",
    "                                                                \n",
    "for p in µ                                                \n",
    "@objective(m, Min, energy_lost + p*dirty_power)\n",
    "                                                \n",
    "status = solve(m)\n",
    "\n",
    "println(\"------Solution------\")\n",
    "# println(getvalue(x))\n",
    "println(\"µ: \", p)\n",
    "println(\"Total energy losses will be \", getvalue(energy_lost), \" kWh.\")\n",
    "println(\"Total dirty energy used will be \", getvalue(dirty_power), \" kWh.\")\n",
    "append!(Ppath, getvalue(x[(:gamma, :P), 4]))\n",
    "append!(Bpath, getvalue(x[(:gamma, :B), 4]))\n",
    "end"
   ]
  },
  {
   "cell_type": "code",
   "execution_count": 164,
   "metadata": {},
   "outputs": [
    {
     "data": {
      "image/png": "[encoded data removed]",
      "text/plain": [
       "PyPlot.Figure(PyObject <Figure size 640x480 with 1 Axes>)"
      ]
     },
     "metadata": {},
     "output_type": "display_data"
    },
    {
     "data": {
      "text/plain": [
       "PyObject <matplotlib.legend.Legend object at 0x155e8b160>"
      ]
     },
     "execution_count": 164,
     "metadata": {},
     "output_type": "execute_result"
    }
   ],
   "source": [
    "using PyPlot\n",
    "\n",
    "title(L\"Energy from $\\gamma$ vs. $\\mu$\")\n",
    "plot(µ, Ppath, \"b-o\")\n",
    "plot(µ, Bpath, \"ro-\")\n",
    "xlabel(L\"$\\mu$\")\n",
    "ylabel(\"Energy (kWh)\")\n",
    "legend([L\"$\\gamma\\rightarrow P$\", L\"$\\gamma\\rightarrow B$\"])"
   ]
  },
  {
   "cell_type": "code",
   "execution_count": 15,
   "metadata": {},
   "outputs": [
    {
     "data": {
      "text/plain": [
       "Dict{Symbol,Float64} with 3 entries:\n",
       "  :Fri   => 16300.0\n",
       "  :Weds  => 9000.0\n",
       "  :Thurs => 6300.0"
      ]
     },
     "execution_count": 15,
     "metadata": {},
     "output_type": "execute_result"
    }
   ],
   "source": [
    "total_supply = Dict(zip(days, sum(supply, 1)))"
   ]
  },
  {
   "cell_type": "code",
   "execution_count": 62,
   "metadata": {},
   "outputs": [
    {
     "data": {
      "text/html": [
       "625.8199999999999"
      ],
      "text/plain": [
       "625.8199999999999"
      ]
     },
     "execution_count": 62,
     "metadata": {},
     "output_type": "execute_result"
    }
   ],
   "source": [
    "supply_from_producers = (getvalue(sum(flow_out[p, 4] for p in producers))) + (sum(demand[us, 4]))"
   ]
  },
  {
   "cell_type": "code",
   "execution_count": 65,
   "metadata": {},
   "outputs": [
    {
     "data": {
      "text/html": [
       "300.0"
      ],
      "text/plain": [
       "300.0"
      ]
     },
     "execution_count": 65,
     "metadata": {},
     "output_type": "execute_result"
    }
   ],
   "source": [
    "getvalue(sum(flow_out[c, 4] for c in us)) + (sum(demand[us, 4]))"
   ]
  },
  {
   "cell_type": "code",
   "execution_count": 66,
   "metadata": {},
   "outputs": [
    {
     "data": {
      "text/plain": [
       "Dict{Int64,Float64} with 4 entries:\n",
       "  4 => 443.2\n",
       "  2 => 294.1\n",
       "  3 => 256.7\n",
       "  1 => 247.3"
      ]
     },
     "execution_count": 66,
     "metadata": {},
     "output_type": "execute_result"
    }
   ],
   "source": [
    "total_demand = Dict(zip(days, sum(demand, 1)))"
   ]
  },
  {
   "cell_type": "code",
   "execution_count": 18,
   "metadata": {},
   "outputs": [
    {
     "data": {
      "text/plain": [
       "Dict{Symbol,Any} with 3 entries:\n",
       "  :Fri   => 16043.3\n",
       "  :Weds  => 8752.7\n",
       "  :Thurs => 6005.9"
      ]
     },
     "execution_count": 18,
     "metadata": {},
     "output_type": "execute_result"
    }
   ],
   "source": [
    "net = Dict(zip(days, total_supply[t] - total_demand[t] for t in days))"
   ]
  },
  {
   "cell_type": "code",
   "execution_count": 41,
   "metadata": {},
   "outputs": [
    {
     "data": {
      "text/html": [
       "231.56940144478847"
      ],
      "text/plain": [
       "231.56940144478847"
      ]
     },
     "execution_count": 41,
     "metadata": {},
     "output_type": "execute_result"
    }
   ],
   "source": [
    "getvalue(sum(x[a, :Weds] for a in edges))"
   ]
  },
  {
   "cell_type": "code",
   "execution_count": 30,
   "metadata": {},
   "outputs": [
    {
     "data": {
      "text/html": [
       "205.23333333333335"
      ],
      "text/plain": [
       "205.23333333333335"
      ]
     },
     "execution_count": 30,
     "metadata": {},
     "output_type": "execute_result"
    }
   ],
   "source": [
    "demand_from_consumers = (getvalue(sum(flow_in[c, :Weds] for c in consumers)))"
   ]
  },
  {
   "cell_type": "code",
   "execution_count": 34,
   "metadata": {},
   "outputs": [
    {
     "data": {
      "text/html": [
       "247.29999999999998"
      ],
      "text/plain": [
       "247.29999999999998"
      ]
     },
     "execution_count": 34,
     "metadata": {},
     "output_type": "execute_result"
    }
   ],
   "source": [
    "demand_from_consumers = total_demand[:Weds] - sum(demand[us, :Weds])"
   ]
  },
  {
   "cell_type": "code",
   "execution_count": 84,
   "metadata": {},
   "outputs": [
    {
     "data": {
      "text/html": [
       "0.0"
      ],
      "text/plain": [
       "0.0"
      ]
     },
     "execution_count": 84,
     "metadata": {},
     "output_type": "execute_result"
    }
   ],
   "source": [
    "getvalue(flow_in[:L, :Weds] + flow_in[:K, :Weds] + flow_in[:C, :Weds])"
   ]
  },
  {
   "cell_type": "code",
   "execution_count": 85,
   "metadata": {},
   "outputs": [
    {
     "data": {
      "text/html": [
       "74.13333333333334"
      ],
      "text/plain": [
       "74.13333333333334"
      ]
     },
     "execution_count": 85,
     "metadata": {},
     "output_type": "execute_result"
    }
   ],
   "source": [
    "getvalue(flow_in[:P, :Weds])"
   ]
  },
  {
   "cell_type": "code",
   "execution_count": 31,
   "metadata": {},
   "outputs": [
    {
     "data": {
      "text/html": [
       "68.40273477812178"
      ],
      "text/plain": [
       "68.40273477812178"
      ]
     },
     "execution_count": 31,
     "metadata": {},
     "output_type": "execute_result"
    }
   ],
   "source": [
    "supply_from_producers - demand_from_consumers"
   ]
  },
  {
   "cell_type": "code",
   "execution_count": 4,
   "metadata": {},
   "outputs": [
    {
     "data": {
      "text/plain": [
       "5-element Array{Symbol,1}:\n",
       " :K    \n",
       " :L    \n",
       " :C    \n",
       " :alpha\n",
       " :beta "
      ]
     },
     "execution_count": 4,
     "metadata": {},
     "output_type": "execute_result"
    }
   ],
   "source": [
    "producers"
   ]
  },
  {
   "cell_type": "code",
   "execution_count": 33,
   "metadata": {},
   "outputs": [
    {
     "data": {
      "text/html": [
       "26.33606811145515"
      ],
      "text/plain": [
       "26.33606811145515"
      ]
     },
     "execution_count": 33,
     "metadata": {},
     "output_type": "execute_result"
    }
   ],
   "source": [
    "supply_from_producers - total_demand[:Weds]"
   ]
  },
  {
   "cell_type": "code",
   "execution_count": 36,
   "metadata": {},
   "outputs": [
    {
     "data": {
      "text/plain": [
       "6×3 Named Array{Float64,2}\n",
       "Producer ╲ Day │    :Weds    :Thurs      :Fri\n",
       "───────────────┼─────────────────────────────\n",
       ":K             │   2000.0    1500.0    1000.0\n",
       ":L             │   1500.0    2000.0    1500.0\n",
       ":C             │   1500.0    2300.0    1800.0\n",
       ":alpha         │   1500.0     300.0    7000.0\n",
       ":beta          │   2500.0     200.0    5000.0\n",
       ":gamma         │ 100000.0  100000.0  100000.0"
      ]
     },
     "execution_count": 36,
     "metadata": {},
     "output_type": "execute_result"
    }
   ],
   "source": [
    "supply"
   ]
  },
  {
   "cell_type": "code",
   "execution_count": 126,
   "metadata": {},
   "outputs": [
    {
     "name": "stdout",
     "output_type": "stream",
     "text": [
      "Supply from K: 100.0\n",
      "Supply from L: 347.4530501089325\n",
      "Supply from C: 120.0\n"
     ]
    }
   ],
   "source": [
    "for u in us\n",
    "println(\"Supply from \", u, \": \", getvalue(flow_out[u, 4]) + demand[u, 4])\n",
    "end"
   ]
  },
  {
   "cell_type": "code",
   "execution_count": 149,
   "metadata": {},
   "outputs": [
    {
     "data": {
      "text/plain": [
       "3-element Array{Int64,1}:\n",
       " 1\n",
       " 2\n",
       " 2"
      ]
     },
     "execution_count": 149,
     "metadata": {},
     "output_type": "execute_result"
    }
   ],
   "source": [
    "append!([1; 2], 2)"
   ]
  },
  {
   "cell_type": "code",
   "execution_count": 152,
   "metadata": {},
   "outputs": [
    {
     "data": {
      "text/plain": [
       "52-element Array{Any,1}:\n",
       " 165.918\n",
       "  85.107\n",
       " 165.918\n",
       "  85.107\n",
       " 165.918\n",
       "  85.107\n",
       " 165.918\n",
       "  85.107\n",
       " 165.918\n",
       "  85.107\n",
       " 165.918\n",
       "  85.107\n",
       " 165.918\n",
       "   ⋮    \n",
       " 165.918\n",
       "   0.0  \n",
       " 165.918\n",
       "   0.0  \n",
       "   0.0  \n",
       "   0.0  \n",
       "   0.0  \n",
       "   0.0  \n",
       "   0.0  \n",
       "   0.0  \n",
       "   0.0  \n",
       "   0.0  "
      ]
     },
     "execution_count": 152,
     "metadata": {},
     "output_type": "execute_result"
    }
   ],
   "source": [
    "Ppath"
   ]
  },
  {
   "cell_type": "code",
   "execution_count": null,
   "metadata": {},
   "outputs": [],
   "source": []
  }
 ],
 "metadata": {
  "kernelspec": {
   "display_name": "Julia 0.6.4",
   "language": "julia",
   "name": "julia-0.6"
  },
  "language_info": {
   "file_extension": ".jl",
   "mimetype": "application/julia",
   "name": "julia",
   "version": "0.6.4"
  }
 },
 "nbformat": 4,
 "nbformat_minor": 2
}
